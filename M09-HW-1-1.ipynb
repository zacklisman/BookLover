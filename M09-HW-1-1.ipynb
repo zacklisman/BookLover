{
 "cells": [
  {
   "cell_type": "markdown",
   "metadata": {},
   "source": [
    "# Metadata\n",
    "\n",
    "```yaml\n",
    "Course:  DS 5100\n",
    "Module:  09 Python Packages\n",
    "Topic:   HW Package Booklover\n",
    "Author:  R.C. Alvarado (adapted)\n",
    "Date:    7 July 2023 (revised)\n",
    "```"
   ]
  },
  {
   "cell_type": "markdown",
   "metadata": {},
   "source": [
    "# Student Info\n",
    "\n",
    "* Name: Zack Lisman \n",
    "* Net UD: zjl2ue\n",
    "* URL of this file in GitHub:"
   ]
  },
  {
   "cell_type": "markdown",
   "metadata": {},
   "source": [
    "# Instructions\n",
    "\n",
    "In your **private course repo on Rivanna**, use this Jupyter notebook and the data file described to write code that performs the tasks below. \n",
    "\n",
    "Save your notebook in the `M09` directory.\n",
    "\n",
    "Remember to add and commit these files to your repo. \n",
    "\n",
    "Then push your commits to your repo on GitHib.\n",
    "\n",
    "Be sure to fill out the **Student Info** block above.\n",
    "\n",
    "To submit your homework, save your results as a PDF and upload it to GradeScope. More information about how to create the PDF for this assignment are included at the end of this document.\n",
    "\n",
    "**TOTAL POINTS: 8**"
   ]
  },
  {
   "cell_type": "markdown",
   "metadata": {},
   "source": [
    "# Overview\n",
    "\n",
    "Follow the following recipe we used in class to package the code you wrote for `HW08` -- `booklover.py` and `booklover_test.py`.\n",
    "\n",
    "* Create a new git repo for your package.\n",
    "* Create and edit the required files and directories for your package and move the booklover modules there.\n",
    "* Stage, commit, and push all the files you've created.\n",
    "* Install your package with pip.\n",
    "* Outside of your package dir, write a script to test your method.\n",
    "\n",
    "Put this notebook in your repo. This will allow you to execute bash commands and capture the outpunt directly in the notebook.\n",
    "\n",
    "**TOTAL: 8 POINTS**"
   ]
  },
  {
   "cell_type": "markdown",
   "metadata": {
    "tags": []
   },
   "source": [
    "# Tasks"
   ]
  },
  {
   "cell_type": "markdown",
   "metadata": {},
   "source": [
    "## Task 1\n",
    "\n",
    "(5 points)\n",
    "\n",
    "Show the directory structure of your repo by running this command from the root of your repo:"
   ]
  },
  {
   "cell_type": "code",
   "execution_count": 2,
   "metadata": {},
   "outputs": [
    {
     "name": "stdout",
     "output_type": "stream",
     "text": [
      ".:\n",
      "total 32\n",
      "drwxr-sr-x 4 zjl2ue users 2560 Oct 27 15:07 booklover\n",
      "drwxr-sr-x 3 zjl2ue users 2560 Oct 27 00:25 BookLover.egg-info\n",
      "-rw-r--r-- 1 zjl2ue users 1067 Oct 26 22:47 LICENSE\n",
      "-rw-r--r-- 1 zjl2ue users 6401 Oct 27 14:58 M09-HW-1-1.ipynb\n",
      "-rw-r--r-- 1 zjl2ue users   11 Oct 26 22:47 README.md\n",
      "-rw-r--r-- 1 zjl2ue users  317 Oct 26 23:29 setup.py\n",
      "\n",
      "./booklover:\n",
      "total 20\n",
      "-rw-r--r-- 1 zjl2ue users 1004 Oct 27 00:02 booklover.py\n",
      "-rw-r--r-- 1 zjl2ue users 1995 Oct 27 00:00 booklover_test.py\n",
      "-rw-r--r-- 1 zjl2ue users  117 Oct 27 15:07 __init__.py\n",
      "drwxr-sr-x 2 zjl2ue users  512 Oct 27 14:59 __pycache__\n",
      "\n",
      "./booklover/__pycache__:\n",
      "total 4\n",
      "-rw-r--r-- 1 zjl2ue users 221 Oct 27 14:59 __init__.cpython-38.pyc\n",
      "\n",
      "./BookLover.egg-info:\n",
      "total 16\n",
      "-rw-r--r-- 1 zjl2ue users   1 Oct 27 00:24 dependency_links.txt\n",
      "-rw-r--r-- 1 zjl2ue users 258 Oct 27 00:24 PKG-INFO\n",
      "-rw-r--r-- 1 zjl2ue users 201 Oct 27 00:24 SOURCES.txt\n",
      "-rw-r--r-- 1 zjl2ue users  10 Oct 27 00:24 top_level.txt\n"
     ]
    }
   ],
   "source": [
    "!ls -lR"
   ]
  },
  {
   "cell_type": "markdown",
   "metadata": {},
   "source": [
    "## Task 2\n",
    "\n",
    "(1 point)\n",
    "\n",
    "Put the URL of your GitHub repo here. Just paste it into a Markdown cell."
   ]
  },
  {
   "cell_type": "markdown",
   "metadata": {},
   "source": [
    "URL: https://github.com/zacklisman/BookLover"
   ]
  },
  {
   "cell_type": "markdown",
   "metadata": {
    "lines_to_next_cell": 0
   },
   "source": [
    "## Task 3\n",
    "\n",
    "(1 point)\n",
    "\n",
    "Show the results of installing your package.\n",
    "\n",
    "```bash\n",
    "!pip install -e .\n",
    "```"
   ]
  },
  {
   "cell_type": "code",
   "execution_count": 3,
   "metadata": {},
   "outputs": [
    {
     "name": "stdout",
     "output_type": "stream",
     "text": [
      "Defaulting to user installation because normal site-packages is not writeable\n",
      "Obtaining file:///sfs/qumulo/qhome/zjl2ue/Documents/Documents/MSDS/DS5100/BookLover\n",
      "Installing collected packages: BookLover\n",
      "  Attempting uninstall: BookLover\n",
      "    Found existing installation: BookLover 0.1\n",
      "    Uninstalling BookLover-0.1:\n",
      "      Successfully uninstalled BookLover-0.1\n",
      "  Running setup.py develop for BookLover\n",
      "Successfully installed BookLover\n"
     ]
    }
   ],
   "source": [
    "!pip install -e ."
   ]
  },
  {
   "cell_type": "markdown",
   "metadata": {},
   "source": [
    "## Task 4\n",
    "\n",
    "(1 point)\n",
    "\n",
    "Create a file outside your repo to test your package by running it.\n",
    "\n",
    "To do this, import the package into your file and create a BookLover object.\n",
    "\n",
    "Then add a book and then print number books read.\n",
    "\n",
    "Then run the file. \n",
    "\n",
    "Show the output of running the file below, using a command like the following:\n",
    "\n",
    "```bash\n",
    "!python ../book_lover_demo.py\n",
    "```"
   ]
  },
  {
   "cell_type": "code",
   "execution_count": 7,
   "metadata": {},
   "outputs": [
    {
     "name": "stdout",
     "output_type": "stream",
     "text": [
      "This is the BookLover Module\n"
     ]
    }
   ],
   "source": [
    "import booklover"
   ]
  },
  {
   "cell_type": "code",
   "execution_count": 25,
   "metadata": {},
   "outputs": [
    {
     "name": "stdout",
     "output_type": "stream",
     "text": [
      "This is the BookLover Module\n",
      "Number of books read: 1\n"
     ]
    }
   ],
   "source": [
    "!python /home/zjl2ue/Documents/Documents/MSDS/DS5100/DS5100-zjl2ue/lessons/M09/book_lover_demo.py"
   ]
  },
  {
   "cell_type": "code",
   "execution_count": null,
   "metadata": {},
   "outputs": [],
   "source": []
  }
 ],
 "metadata": {
  "jupytext": {
   "cell_metadata_filter": "-all",
   "main_language": "bash",
   "notebook_metadata_filter": "-all"
  },
  "kernelspec": {
   "display_name": "Python 3",
   "language": "python",
   "name": "python3"
  },
  "language_info": {
   "codemirror_mode": {
    "name": "ipython",
    "version": 3
   },
   "file_extension": ".py",
   "mimetype": "text/x-python",
   "name": "python",
   "nbconvert_exporter": "python",
   "pygments_lexer": "ipython3",
   "version": "3.8.8"
  },
  "vscode": {
   "interpreter": {
    "hash": "c3b963de08c47c3b6758389c5e0978ad73698a111eb508d4e16b558edb8f4cbf"
   }
  },
  "widgets": {
   "application/vnd.jupyter.widget-state+json": {
    "state": {},
    "version_major": 2,
    "version_minor": 0
   }
  }
 },
 "nbformat": 4,
 "nbformat_minor": 5
}
